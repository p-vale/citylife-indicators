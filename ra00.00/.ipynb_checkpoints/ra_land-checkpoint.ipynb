{
 "cells": [
  {
   "cell_type": "code",
   "execution_count": 1,
   "id": "949201f5",
   "metadata": {},
   "outputs": [],
   "source": [
    "import urllib, json, copy\n",
    "import georasters as gr\n",
    "import pandas as pd\n",
    "import geopandas as gpd\n",
    "import osmnx as ox\n",
    "import matplotlib.pyplot as plt"
   ]
  },
  {
   "cell_type": "code",
   "execution_count": 2,
   "id": "c006be57",
   "metadata": {},
   "outputs": [],
   "source": [
    "areas_url = 'https://opendata.comune.ra.it/dataset/5ec2b0b3-24f7-4b75-987d-f53658d80064/resource/a8402fb2-3fd5-4a53-a691-263bb8e82640/download/sitra01aa01areeterritoriali.geojson'\n",
    "areas_response = urllib.request.urlopen(areas_url)\n",
    "areas_data = json.loads(areas_response.read())\n",
    "# print(areas_data)\n",
    "areas = gpd.GeoDataFrame.from_features(areas_data)\n",
    "areas = areas[['geometry', 'NOME_AT']]\n",
    "areas = areas.rename( columns = { 'NOME_AT' : 'frazione' } )\n",
    "areas = areas.set_crs('epsg:4326')\n",
    "areas = areas.to_crs( epsg = 32633 ) #utm"
   ]
  },
  {
   "cell_type": "code",
   "execution_count": 3,
   "id": "896af529",
   "metadata": {},
   "outputs": [],
   "source": [
    "# area_tot = copy.copy(areas)\n",
    "# area_tot['dis'] = 1\n",
    "# area_tot = area_tot.dissolve(by='dis').reset_index(drop = True)\n",
    "# area_tot.plot()"
   ]
  },
  {
   "cell_type": "markdown",
   "id": "6391bbd9",
   "metadata": {},
   "source": [
    "The cell below contains the code to convert geotiff to geojson. After creating the geojson, I will always use it and not the original geotiff."
   ]
  },
  {
   "cell_type": "code",
   "execution_count": 4,
   "id": "3a26bc5e",
   "metadata": {},
   "outputs": [],
   "source": [
    "# tif = gr.from_file('../data/ra_landcover.tif')\n",
    "# tif.plot()\n",
    "# land_cover = tif.to_pandas()\n",
    "# print(land_cover.head(1))\n",
    "# land_cover = gpd.GeoDataFrame(\n",
    "#     land_cover, \n",
    "#     geometry = gpd.points_from_xy(land_cover.x, land_cover.y))\n",
    "# land_cover = land_cover.drop( columns = ['row', 'col', 'x', 'y'])\n",
    "# land_cover = land_cover.set_crs('epsg:4326') # WGS84\n",
    "# land_cover = land_cover.to_crs( epsg = 32633 ) #  utm\n",
    "# land_cover = land_cover.overlay( area_tot, how = 'intersection' )\n",
    "# land_cover.plot(column = 'value')\n",
    "# land_cover.to_file('ra_landcover.geojson', driver = 'GeoJSON') "
   ]
  },
  {
   "cell_type": "code",
   "execution_count": 5,
   "id": "e27a0759",
   "metadata": {},
   "outputs": [],
   "source": [
    "# land_cover = gpd.read_file( 'ra_landcover.geojson' )\n",
    "# # land_cover.plot('value', cmap='tab20b')"
   ]
  },
  {
   "cell_type": "code",
   "execution_count": 6,
   "id": "7b74f913",
   "metadata": {},
   "outputs": [],
   "source": [
    "# print(land_cover.head())\n",
    "# print(land_cover.crs)\n",
    "# print(land_cover.shape)"
   ]
  },
  {
   "cell_type": "code",
   "execution_count": 7,
   "id": "09490b9f",
   "metadata": {},
   "outputs": [],
   "source": [
    "# residential = copy.copy(land_cover)\n",
    "# # residential = residential.loc[ residential['value'] == 42.0 ]\n",
    "# residential = residential.drop(residential[ residential['value'] > 2.0].index )\n",
    "# residential['dissovefield'] = 1\n",
    "# residential = residential.dissolve( by = 'dissovefield' )\n",
    "# residential['geometry'] = residential.convex_hull\n",
    "# residential['area'] = residential.area\n",
    "# residential = residential[['area', 'geometry']].reset_index( drop = True )\n",
    "# print(residential.head(3))\n",
    "# print(residential.shape)\n",
    "# print(residential['area'].sum())\n",
    "# fig, ax = plt.subplots( figsize = (20, 15) )\n",
    "# residential.plot( ax = ax )\n",
    "# areas.plot(ax = ax, color = 'none', edgecolor = 'black')"
   ]
  },
  {
   "cell_type": "code",
   "execution_count": 8,
   "id": "f8a54268",
   "metadata": {},
   "outputs": [],
   "source": [
    "# industrial = copy.copy(land_cover)\n",
    "# industrial = industrial.loc[ industrial['value'] == 3.0 ]\n",
    "# fig, ax = plt.subplots( figsize = (20, 15) )\n",
    "# industrial.plot( ax = ax )\n",
    "# areas.plot(ax = ax, color = 'none', edgecolor = 'black')"
   ]
  },
  {
   "cell_type": "code",
   "execution_count": 9,
   "id": "a2e2c587",
   "metadata": {},
   "outputs": [
    {
     "name": "stderr",
     "output_type": "stream",
     "text": [
      "C:\\Users\\valen\\anaconda3\\envs\\geoqol\\lib\\site-packages\\osmnx\\geocoder.py:110: FutureWarning: The frame.append method is deprecated and will be removed from pandas in a future version. Use pandas.concat instead.\n",
      "  gdf = gdf.append(_geocode_query_to_gdf(q, wr, by_osmid))\n"
     ]
    },
    {
     "name": "stdout",
     "output_type": "stream",
     "text": [
      "                          amenity brand     name operator  \\\n",
      "element_type osmid                                          \n",
      "node         533907978  fast_food   NaN  Piadina      NaN   \n",
      "             598909421  fast_food   NaN  Piadina      NaN   \n",
      "             602497606  fast_food   NaN  Piadina      NaN   \n",
      "\n",
      "                                         geometry tourism building  cuisine  \\\n",
      "element_type osmid                                                            \n",
      "node         533907978  POINT (12.18546 44.42652)     NaN    kiosk  piadina   \n",
      "             598909421  POINT (12.19429 44.40711)     NaN    kiosk  piadina   \n",
      "             602497606  POINT (12.28335 44.48467)     NaN    kiosk  piadina   \n",
      "\n",
      "                       addr:street source  ... substation tower:construction  \\\n",
      "element_type osmid                         ...                                 \n",
      "node         533907978         NaN    NaN  ...        NaN                NaN   \n",
      "             598909421         NaN    NaN  ...        NaN                NaN   \n",
      "             602497606         NaN    NaN  ...        NaN                NaN   \n",
      "\n",
      "                       ways type contact:facebook museum operator:type  \\\n",
      "element_type osmid                                                       \n",
      "node         533907978  NaN  NaN              NaN    NaN           NaN   \n",
      "             598909421  NaN  NaN              NaN    NaN           NaN   \n",
      "             602497606  NaN  NaN              NaN    NaN           NaN   \n",
      "\n",
      "                       network ref:isil castle_type  \n",
      "element_type osmid                                   \n",
      "node         533907978     NaN      NaN         NaN  \n",
      "             598909421     NaN      NaN         NaN  \n",
      "             602497606     NaN      NaN         NaN  \n",
      "\n",
      "[3 rows x 141 columns]\n",
      "(61407, 141)\n"
     ]
    }
   ],
   "source": [
    "place = 'Ravenna, Ravenna, Italy'\n",
    "buildings = ox.geometries_from_place(place, tags={'building':True})\n",
    "print(buildings.head(3))\n",
    "print(buildings.shape)"
   ]
  },
  {
   "cell_type": "code",
   "execution_count": null,
   "id": "4cf08105",
   "metadata": {},
   "outputs": [],
   "source": [
    "buildings = buildings[['amenity', 'name', 'building', 'geometry']]\n",
    "buildings.to_file('ra_buildings.geojson', driver = 'GeoJSON') "
   ]
  }
 ],
 "metadata": {
  "kernelspec": {
   "display_name": "Python 3 (ipykernel)",
   "language": "python",
   "name": "python3"
  },
  "language_info": {
   "codemirror_mode": {
    "name": "ipython",
    "version": 3
   },
   "file_extension": ".py",
   "mimetype": "text/x-python",
   "name": "python",
   "nbconvert_exporter": "python",
   "pygments_lexer": "ipython3",
   "version": "3.10.4"
  }
 },
 "nbformat": 4,
 "nbformat_minor": 5
}
