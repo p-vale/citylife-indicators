{
 "cells": [
  {
   "cell_type": "code",
   "execution_count": 1,
   "id": "26fc0276",
   "metadata": {},
   "outputs": [],
   "source": [
    "# from pathlib import Path\n",
    "# import networkx as nx\n",
    "import pandas as pd\n",
    "import geopandas as gpd\n",
    "import matplotlib.pyplot as plt\n",
    "# from pandas.plotting import parallel_coordinates\n",
    "from scipy.cluster.hierarchy import dendrogram, linkage"
   ]
  },
  {
   "cell_type": "code",
   "execution_count": 2,
   "id": "59be8ffc",
   "metadata": {},
   "outputs": [],
   "source": [
    "areas = gpd.read_file( '../../data/aree.geojson' )\n",
    "areas = areas[[\"geometry\", \"NOME_AT\"]] # shows epsg:3004, but it's wrong\n",
    "areas = areas.rename(columns = { \"NOME_AT\" : \"frazione\" })\n",
    "areas = areas.set_crs( \"epsg:4326\", allow_override = True )\n",
    "areas = areas.to_crs( epsg = 32633 ) #utm\n",
    "# print(areas.head(3))\n",
    "# areas.plot( column = \"frazione\" )"
   ]
  },
  {
   "cell_type": "code",
   "execution_count": 3,
   "id": "7b1cd3a3",
   "metadata": {},
   "outputs": [],
   "source": [
    "ateco = pd.read_csv( '../../data/ateco.csv', encoding = 'ISO-8859-1' ) # ateco classification of economic activities\n",
    "# print(ateco.head(3))"
   ]
  },
  {
   "cell_type": "code",
   "execution_count": 4,
   "id": "870abdf0",
   "metadata": {
    "scrolled": false
   },
   "outputs": [
    {
     "name": "stdout",
     "output_type": "stream",
     "text": [
      "                                                nome  \\\n",
      "0        CASADIO & VANNINI DI GALLI ALBA E C. S.N.C.   \n",
      "1  HOTEL BISANZIO-DI FABBRI DONATELLA & C.-SOCIET...   \n",
      "2  LEGATORIA TIMBRIFICIO UNIVERSO DI MARIO VERITA...   \n",
      "\n",
      "                         geometry  ateco_0  ateco_1 ateco_2 ateco_3 ateco_4  \\\n",
      "0  POINT (272167.050 4922066.166)  45.20.2  45.20.1   77.11    None    None   \n",
      "1  POINT (276997.507 4922289.211)     55.1     None    None    None    None   \n",
      "2  POINT (278236.571 4925807.430)    18.14  32.99.9    None    None    None   \n",
      "\n",
      "  ateco_5 ateco_6  \n",
      "0    None    None  \n",
      "1    None    None  \n",
      "2    None    None  \n"
     ]
    }
   ],
   "source": [
    "companies = gpd.read_file('../../data/imprese.geojson')\n",
    "companies = companies[['DENOMINAZI', 'geometry', 'CODICE_ATT']]\n",
    "companies = companies.to_crs( epsg = 32633 ) # utm\n",
    "companies = companies.rename( columns = { 'DENOMINAZI' : 'nome', 'CODICE_ATT' : 'ateco' } )\n",
    "companies = companies.dropna( subset = ['ateco'] ) # delete unspecified companies\n",
    "companies['ateco'] = companies['ateco'].str.replace( '[A-Z]', '', regex = True ) # the default value of regex will change from True to False in a future version\n",
    "companies['ateco'] = companies['ateco'].str.replace(' ', '')\n",
    "companies_ateco = companies['ateco'].str.split( '/', expand = True )\n",
    "companies_ateco = companies_ateco.add_prefix( 'ateco_' )\n",
    "companies = companies.drop( columns = ['ateco'] )\n",
    "companies = pd.concat( [companies, companies_ateco], axis = 1 )\n",
    "print(companies.head(3))"
   ]
  },
  {
   "cell_type": "code",
   "execution_count": 5,
   "id": "e442f26b",
   "metadata": {},
   "outputs": [],
   "source": [
    "# ateco_net = companies[['ateco_0', 'ateco_1', 'ateco_2', 'ateco_3', 'ateco_4', 'ateco_5', 'ateco_6']]\n",
    "# filepath = Path('../../data/ateco_net.csv') \n",
    "# ateco_net.to_csv(filepath)"
   ]
  },
  {
   "cell_type": "code",
   "execution_count": 6,
   "id": "54069185",
   "metadata": {
    "scrolled": false
   },
   "outputs": [
    {
     "name": "stdout",
     "output_type": "stream",
     "text": [
      "                                                nome  \\\n",
      "0        CASADIO & VANNINI DI GALLI ALBA E C. S.N.C.   \n",
      "1  HOTEL BISANZIO-DI FABBRI DONATELLA & C.-SOCIET...   \n",
      "2  LEGATORIA TIMBRIFICIO UNIVERSO DI MARIO VERITA...   \n",
      "\n",
      "                         geometry ateco_cod  \\\n",
      "0  POINT (272167.050 4922066.166)   45.20.2   \n",
      "1  POINT (276997.507 4922289.211)      55.1   \n",
      "2  POINT (278236.571 4925807.430)     18.14   \n",
      "\n",
      "                                  ateco_nome  \n",
      "0  Riparazione di carrozzerie di autoveicoli  \n",
      "1                Alberghi e strutture simili  \n",
      "2               Legatoria e servizi connessi  \n"
     ]
    }
   ],
   "source": [
    "companies = companies[['nome', 'geometry', 'ateco_0']]\n",
    "companies = companies.rename( columns = { 'ateco_0' : 'ateco_cod' } )\n",
    "ateco = ateco.drop_duplicates( subset = ['ateco_cod'] ) # imprese rows will increase if keys match more than one row in the other df\n",
    "companies = pd.merge( companies, ateco, how = 'left', on = 'ateco_cod' )\n",
    "# error = imprese[imprese['ateco_nome'].isna()] # look for untranslated ateco_cod values\n",
    "print(companies.head(3))"
   ]
  },
  {
   "cell_type": "code",
   "execution_count": 7,
   "id": "2ea8141a",
   "metadata": {},
   "outputs": [],
   "source": [
    "distribution = areas.overlay( companies, how = 'intersection', keep_geom_type = False )\n",
    "distribution = distribution.drop_duplicates( subset = ['nome'], ignore_index = True )\n",
    "distribution = distribution.drop( columns = ['nome', 'ateco_nome', 'geometry'] )\n",
    "# print(distribution.head(3))"
   ]
  },
  {
   "cell_type": "code",
   "execution_count": 8,
   "id": "7836bdbe",
   "metadata": {},
   "outputs": [
    {
     "name": "stdout",
     "output_type": "stream",
     "text": [
      "        frazione  companies  \\\n",
      "0    CASTIGLIONE        978   \n",
      "1  CENTRO URBANO       3885   \n",
      "2        DARSENA       1654   \n",
      "\n",
      "                                            geometry      areas  \\\n",
      "0  POLYGON ((286726.373 4915066.675, 286750.492 4...  80.437160   \n",
      "1  POLYGON ((278046.280 4925082.213, 278051.049 4...  21.155808   \n",
      "2  POLYGON ((281218.174 4926652.414, 281326.598 4...  41.587972   \n",
      "\n",
      "   industry_density  \n",
      "0             12.16  \n",
      "1            183.64  \n",
      "2             39.77  \n"
     ]
    }
   ],
   "source": [
    "distribution = distribution.rename( columns = { 'ateco_cod' : 'companies' } ) # prepare column for count\n",
    "distribution = distribution.groupby('frazione').count().reset_index()\n",
    "distribution = distribution.merge( areas, on = 'frazione' )\n",
    "# print(isinstance(distribution, gpd.GeoDataFrame))\n",
    "distribution = gpd.GeoDataFrame(distribution)\n",
    "distribution['areas'] = distribution['geometry'].area  / 10**6 # km\n",
    "distribution['industry_density'] = round( distribution['companies'] / distribution['areas'], 2 )\n",
    "print(distribution.head(3)) # ready for indicators df"
   ]
  },
  {
   "cell_type": "code",
   "execution_count": 9,
   "id": "ef5eb480",
   "metadata": {},
   "outputs": [],
   "source": [
    "variety = companies\n",
    "variety['ateco_cod'] = variety['ateco_cod'].str.split( pat = '.' )\n",
    "variety['ateco_cod'] = variety['ateco_cod'].str.get(0)"
   ]
  },
  {
   "cell_type": "code",
   "execution_count": 10,
   "id": "ba4f8160",
   "metadata": {},
   "outputs": [],
   "source": [
    "variety_tot = variety[['geometry', 'ateco_cod']].groupby('ateco_cod').count().reset_index()\n",
    "variety_tot = variety_tot.rename( columns = { 'geometry' : 'tot' } )\n",
    "variety_tot = pd.merge( variety_tot, ateco, how = 'left', on = 'ateco_cod' )\n",
    "variety_tot = variety_tot[['ateco_nome', 'tot']]"
   ]
  },
  {
   "cell_type": "code",
   "execution_count": 11,
   "id": "e4d2a76a",
   "metadata": {
    "scrolled": false
   },
   "outputs": [],
   "source": [
    "variety_local = areas.overlay( variety, how = \"intersection\", keep_geom_type = False )\n",
    "variety_local = variety_local.drop_duplicates( subset = ['nome'], ignore_index = True )\n",
    "variety_local = variety_local.groupby('frazione')\n",
    "# print(variety_local.head(3)) # shows the first three of each group\n",
    "# print(variety_local.get_group('DEL MARE').head(3))"
   ]
  },
  {
   "cell_type": "code",
   "execution_count": 12,
   "id": "a1405229",
   "metadata": {},
   "outputs": [],
   "source": [
    "variety_data = pd.DataFrame( columns = ['frazione', 'types'] ) # ready for indicator df\n",
    "\n",
    "def distr_analysis(df_input, str_input):\n",
    "    df = df_input[['ateco_cod', 'nome']]\n",
    "    df = df.groupby('ateco_cod').count().reset_index()\n",
    "    global variety_data\n",
    "    d = { 'frazione' : [str_input], 'types' : [len(df.index)] }\n",
    "    df_temp = pd.DataFrame( data = d )\n",
    "    variety_data = pd.concat( [variety_data, df_temp], ignore_index = True )\n",
    "    return\n",
    "\n",
    "for name, group in variety_local:\n",
    "    distr_analysis( group, name )"
   ]
  },
  {
   "cell_type": "markdown",
   "id": "8ecf2ba6",
   "metadata": {},
   "source": [
    "## Municipality indicators"
   ]
  },
  {
   "cell_type": "code",
   "execution_count": 13,
   "id": "763ecc10",
   "metadata": {},
   "outputs": [
    {
     "name": "stdout",
     "output_type": "stream",
     "text": [
      "   companies        area  industry_density  types  industry_variety\n",
      "0      16094  652.620185             24.66     80            201.18\n"
     ]
    }
   ],
   "source": [
    "ra = pd.DataFrame()\n",
    "ra['companies'] = [companies.shape[0]]\n",
    "ra['area'] = [ areas['geometry'].area.sum() / 10**6 ] # kmq\n",
    "ra['industry_density'] = round( ra['companies'] / ra['area'], 2 )\n",
    "ra['types'] = [ variety_tot.shape[0] ]\n",
    "ra['industry_variety'] = round( ra['companies'] / ra['types'], 2 )\n",
    "print(ra)"
   ]
  },
  {
   "cell_type": "code",
   "execution_count": 14,
   "id": "c2467479",
   "metadata": {},
   "outputs": [
    {
     "data": {
      "text/plain": [
       "Text(0.5, 1.0, 'Top 10 types of companies')"
      ]
     },
     "execution_count": 14,
     "metadata": {},
     "output_type": "execute_result"
    },
    {
     "data": {
      "image/png": "[encoded data removed]",
      "text/plain": [
       "<Figure size 432x288 with 1 Axes>"
      ]
     },
     "metadata": {
      "needs_background": "light"
     },
     "output_type": "display_data"
    }
   ],
   "source": [
    "variety_tot['tot'] = variety_tot['tot'].nlargest( n = 10 ) # mask top 10\n",
    "variety_tot = variety_tot.dropna( subset = ['tot'] ) # keep top 10\n",
    "variety_tot = variety_tot.sort_values( by = ['tot'] )\n",
    "variety_tot.plot.barh( x = 'ateco_nome', y = 'tot', color = 'purple')\n",
    "plt.ylabel('')\n",
    "plt.title('Top 10 types of companies')"
   ]
  },
  {
   "cell_type": "code",
   "execution_count": 15,
   "id": "fad6631d",
   "metadata": {},
   "outputs": [
    {
     "name": "stdout",
     "output_type": "stream",
     "text": [
      "   lvl_1 lvl_2 lvl_3\n",
      "0      1     5      \n",
      "1      1     5      \n",
      "2      1     5      \n",
      "3      1     5      \n",
      "4      1    61      \n"
     ]
    }
   ],
   "source": [
    "ateco_net = pd.read_csv('../../data/ateco_net.csv', keep_default_na=False)\n",
    "print(ateco_net.head())"
   ]
  },
  {
   "cell_type": "code",
   "execution_count": 16,
   "id": "9b443df8",
   "metadata": {},
   "outputs": [],
   "source": [
    "# G = nx.from_pandas_edgelist(ateco_net, 'lvl_1', 'lvl_2')\n",
    "# fig, ax = plt.subplots( figsize = (20, 15) )\n",
    "# nx.draw( G, with_labels = True )\n",
    "# plt.show()"
   ]
  },
  {
   "cell_type": "code",
   "execution_count": 17,
   "id": "0dc2d29f",
   "metadata": {},
   "outputs": [],
   "source": [
    "# parallel_coordinates(ateco_net, 'lvl_1', colormap=plt.get_cmap(\"Set2\"))\n",
    "# plt.show()"
   ]
  },
  {
   "cell_type": "code",
   "execution_count": 18,
   "id": "2a55336c",
   "metadata": {},
   "outputs": [
    {
     "ename": "NameError",
     "evalue": "name 'df' is not defined",
     "output_type": "error",
     "traceback": [
      "\u001b[1;31m---------------------------------------------------------------------------\u001b[0m",
      "\u001b[1;31mNameError\u001b[0m                                 Traceback (most recent call last)",
      "Input \u001b[1;32mIn [18]\u001b[0m, in \u001b[0;36m<cell line: 1>\u001b[1;34m()\u001b[0m\n\u001b[1;32m----> 1\u001b[0m Z \u001b[38;5;241m=\u001b[39m linkage(\u001b[43mdf\u001b[49m, \u001b[38;5;124m'\u001b[39m\u001b[38;5;124mward\u001b[39m\u001b[38;5;124m'\u001b[39m)\n\u001b[0;32m      2\u001b[0m dendrogram(Z, leaf_rotation\u001b[38;5;241m=\u001b[39m\u001b[38;5;241m90\u001b[39m, leaf_font_size\u001b[38;5;241m=\u001b[39m\u001b[38;5;241m8\u001b[39m, labels\u001b[38;5;241m=\u001b[39mateco_net[\u001b[38;5;124m'\u001b[39m\u001b[38;5;124mlvl_1\u001b[39m\u001b[38;5;124m'\u001b[39m])\n\u001b[0;32m      3\u001b[0m plt\u001b[38;5;241m.\u001b[39mshow()\n",
      "\u001b[1;31mNameError\u001b[0m: name 'df' is not defined"
     ]
    }
   ],
   "source": [
    "Z = linkage(ateco_net, 'ward')\n",
    "dendrogram(Z, \n",
    "           leaf_rotation = 90, \n",
    "           leaf_font_size = 8, \n",
    "           labels = ateco_net['lvl_1'])\n",
    "plt.show()"
   ]
  },
  {
   "cell_type": "markdown",
   "id": "1db8f283",
   "metadata": {},
   "source": [
    "## Districts indicators"
   ]
  },
  {
   "cell_type": "code",
   "execution_count": null,
   "id": "65dee18f",
   "metadata": {},
   "outputs": [],
   "source": [
    "indicators = pd.merge( distribution, variety_data, on = 'frazione' )\n",
    "indicators['industry_variety'] = indicators['companies'] / indicators['types']\n",
    "# print(isinstance(indicators, gpd.GeoDataFrame))\n",
    "indicators = gpd.GeoDataFrame(indicators)\n",
    "# print(indicators['types'].dtype) # object\n",
    "indicators['types'] = pd.to_numeric(indicators['types'])\n",
    "indicators['industry_variety'] = pd.to_numeric(indicators['industry_variety'])\n",
    "print(indicators.head(3))"
   ]
  },
  {
   "cell_type": "code",
   "execution_count": null,
   "id": "98bf7295",
   "metadata": {},
   "outputs": [],
   "source": [
    "indicators.plot( column = 'companies', legend = True, cmap = 'RdPu' )\n",
    "plt.title('Number of companies')"
   ]
  },
  {
   "cell_type": "code",
   "execution_count": null,
   "id": "a849033c",
   "metadata": {},
   "outputs": [],
   "source": [
    "indicators.plot( column = 'industry_density', legend = True, cmap = 'RdPu' )\n",
    "plt.title('Industry Density')"
   ]
  },
  {
   "cell_type": "code",
   "execution_count": null,
   "id": "87d02ac8",
   "metadata": {},
   "outputs": [],
   "source": [
    "indicators.plot( column = 'industry_variety', legend = True, cmap = 'RdPu' )\n",
    "plt.title('Industry Variety')"
   ]
  },
  {
   "cell_type": "code",
   "execution_count": null,
   "id": "25da3561",
   "metadata": {
    "scrolled": false
   },
   "outputs": [],
   "source": [
    "def distr_top(df_input, str_input):\n",
    "    df = df_input[['ateco_cod', 'nome']]\n",
    "    df = df.groupby('ateco_cod').count().reset_index()\n",
    "    df = df.rename( columns = { 'nome' : 'tot' } )\n",
    "    df = pd.merge( df, \n",
    "                  ateco, \n",
    "                  how = 'left', \n",
    "                  on = 'ateco_cod' \n",
    "                 )\n",
    "    df = df[['ateco_nome', 'tot']]\n",
    "    df['tot'] = df['tot'].nlargest(n = 10) # mask top 10\n",
    "    df = df.dropna( subset = ['tot'] ) # keep top 10\n",
    "    df = df.sort_values( by = ['tot'] )\n",
    "    df.plot.barh( x = 'ateco_nome', \n",
    "                 y = 'tot', \n",
    "                 title = str_input, \n",
    "                 color = 'purple', \n",
    "                 legend = None \n",
    "                )\n",
    "    plt.ylabel('')\n",
    "#     plt.title('Top 10 industries: ' + str_input)\n",
    "    return\n",
    "\n",
    "for name, group in variety_local:\n",
    "    distr_top(group, name)"
   ]
  }
 ],
 "metadata": {
  "kernelspec": {
   "display_name": "Python 3 (ipykernel)",
   "language": "python",
   "name": "python3"
  },
  "language_info": {
   "codemirror_mode": {
    "name": "ipython",
    "version": 3
   },
   "file_extension": ".py",
   "mimetype": "text/x-python",
   "name": "python",
   "nbconvert_exporter": "python",
   "pygments_lexer": "ipython3",
   "version": "3.10.4"
  }
 },
 "nbformat": 4,
 "nbformat_minor": 5
}
