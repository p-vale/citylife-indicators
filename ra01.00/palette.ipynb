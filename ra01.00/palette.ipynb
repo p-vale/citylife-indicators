{
 "cells": [
  {
   "cell_type": "code",
   "execution_count": null,
   "id": "ee830a05",
   "metadata": {},
   "outputs": [],
   "source": [
    "bg = '#11134A'\n",
    "fg = '#16185F'\n",
    "fg_hover = '#1B1D74'\n",
    "accent = '#202289'\n",
    "accent_hover = '#25279D'\n",
    "\n",
    "txt = '#FAF9F1'\n",
    "title = '#FEE08B'\n",
    "\n",
    "palette = [ '#E48484', '#F7956E', '#FDB761', '#FEE08B', '#E6F598', '#ABDDA4', '#66C2A5', '#6FCED9', '#7F8DDD', '#A084C3' ]\n",
    "\n",
    "rosso = '#E48484'\n",
    "arancio = '#F7956E'\n",
    "arancino = '#FDB761'\n",
    "giallo = '#FEE08B'\n",
    "verdognolo = '#E6F598'\n",
    "verdino = '#ABDDA4'\n",
    "verde = '#66C2A5'\n",
    "azzurro = '#6FCED9'\n",
    "blu = '#7F8DDD'\n",
    "lilla = '#A084C3'"
   ]
  }
 ],
 "metadata": {
  "kernelspec": {
   "display_name": "Python 3 (ipykernel)",
   "language": "python",
   "name": "python3"
  },
  "language_info": {
   "codemirror_mode": {
    "name": "ipython",
    "version": 3
   },
   "file_extension": ".py",
   "mimetype": "text/x-python",
   "name": "python",
   "nbconvert_exporter": "python",
   "pygments_lexer": "ipython3",
   "version": "3.10.4"
  }
 },
 "nbformat": 4,
 "nbformat_minor": 5
}
